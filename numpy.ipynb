{
 "cells": [
  {
   "cell_type": "code",
   "execution_count": 2,
   "id": "89ffc51e",
   "metadata": {},
   "outputs": [],
   "source": [
    "item_list = ['bread','milk','eggs','butters','cocoa']\n",
    "student_marks = [78,47,96,55,34]\n",
    "hetero_list = [1,2,3.0,'test', True,3+2j]"
   ]
  },
  {
   "cell_type": "code",
   "execution_count": 3,
   "id": "95a6829d",
   "metadata": {},
   "outputs": [
    {
     "name": "stdout",
     "output_type": "stream",
     "text": [
      "[83, 52, 101, 60, 39]\n"
     ]
    }
   ],
   "source": [
    "student_marks = [78,47,96,55,34]\n",
    "for i in range(len(student_marks)):\n",
    "     student_marks[i]+=5\n",
    "print(student_marks)"
   ]
  },
  {
   "cell_type": "code",
   "execution_count": 4,
   "id": "2256eb08",
   "metadata": {},
   "outputs": [
    {
     "name": "stdout",
     "output_type": "stream",
     "text": [
      "CPU times: total: 31.2 ms\n",
      "Wall time: 128 ms\n"
     ]
    }
   ],
   "source": [
    "%%time\n",
    "list1 = list(range(1,1000000))\n",
    "list2 = list(range(2,1000001))\n",
    "list3 = []\n",
    "for i in range(len(list1)):\n",
    "    list3.append(list1[i]+list2[i])"
   ]
  },
  {
   "cell_type": "code",
   "execution_count": 5,
   "id": "1b9c561f",
   "metadata": {},
   "outputs": [
    {
     "name": "stdout",
     "output_type": "stream",
     "text": [
      "CPU times: total: 31.2 ms\n",
      "Wall time: 81 ms\n"
     ]
    }
   ],
   "source": [
    "%%time\n",
    "import numpy as np\n",
    "#Creating a numpy array of 1 million numbers\n",
    "a = np.arange(1,1000000)\n",
    "b = np.arange(2,1000001)\n",
    "c = a+b\n"
   ]
  },
  {
   "cell_type": "code",
   "execution_count": 6,
   "id": "0e6fee90",
   "metadata": {},
   "outputs": [
    {
     "data": {
      "text/plain": [
       "array([130, 165, 150, 150, 140])"
      ]
     },
     "execution_count": 6,
     "metadata": {},
     "output_type": "execute_result"
    }
   ],
   "source": [
    "horsepower = [130, 165, 150, 150, 140]\n",
    "horsepower_arr = np.array(horsepower)\n",
    "horsepower_arr"
   ]
  },
  {
   "cell_type": "code",
   "execution_count": 7,
   "id": "feb3ead7",
   "metadata": {},
   "outputs": [
    {
     "data": {
      "text/plain": [
       "array([[ 18,  15,  18,  16,  17],\n",
       "       [130, 165, 150, 150, 140],\n",
       "       [307, 350, 318, 304, 302]])"
      ]
     },
     "execution_count": 7,
     "metadata": {},
     "output_type": "execute_result"
    }
   ],
   "source": [
    "\n",
    "car_attributes = [[18, 15, 18, 16, 17],[130, 165, 150, 150, 140],[307, 350, 318, 304, 302]]\n",
    "\n",
    "car_attributes_arr = np.array(car_attributes)\n",
    "car_attributes_arr\n"
   ]
  },
  {
   "cell_type": "code",
   "execution_count": 8,
   "id": "656f9c12",
   "metadata": {},
   "outputs": [
    {
     "data": {
      "text/plain": [
       "(3, 5)"
      ]
     },
     "execution_count": 8,
     "metadata": {},
     "output_type": "execute_result"
    }
   ],
   "source": [
    "car_attributes = [[18, 15, 18, 16, 17],[130, 165, 150, 150, 140],[307, 350, 318, 304, 302]]\n",
    "\n",
    "car_attributes_arr = np.array(car_attributes)\n",
    "car_attributes_arr.shape\n"
   ]
  },
  {
   "cell_type": "code",
   "execution_count": 13,
   "id": "1b97955f",
   "metadata": {},
   "outputs": [
    {
     "name": "stdout",
     "output_type": "stream",
     "text": [
      "[[ 18.  15.  18.  16.  17.]\n",
      " [130. 165. 150. 150. 140.]\n",
      " [307. 350. 318. 304. 302.]]\n",
      "float64\n"
     ]
    }
   ],
   "source": [
    "car_attributes = [[18, 15, 18, 16, 17],[130, 165, 150, 150, 140],[307,350,318,304,302]]\n",
    "car_attributes_arr = np.array(car_attributes, dtype = 'float')\n",
    "print(car_attributes_arr)\n",
    "print(car_attributes_arr.dtype)\n",
    "\n"
   ]
  },
  {
   "cell_type": "code",
   "execution_count": 3,
   "id": "ed1469f3",
   "metadata": {},
   "outputs": [
    {
     "data": {
      "text/plain": [
       "'buick skylark 320'"
      ]
     },
     "execution_count": 3,
     "metadata": {},
     "output_type": "execute_result"
    }
   ],
   "source": [
    "import numpy as np\n",
    "cars = np.array(['chevrolet chevelle malibu', 'buick skylark 320', 'plymouth satellite', 'amc rebel sst', 'ford torino'])\n",
    "cars[1]\n"
   ]
  },
  {
   "cell_type": "code",
   "execution_count": 4,
   "id": "a4eed505",
   "metadata": {},
   "outputs": [
    {
     "data": {
      "text/plain": [
       "array([['chevrolet chevelle malibu', 'buick skylark 320',\n",
       "        'plymouth satellite', 'amc rebel sst', 'ford torino'],\n",
       "       ['130', '165', '150', '150', '140']], dtype='<U25')"
      ]
     },
     "execution_count": 4,
     "metadata": {},
     "output_type": "execute_result"
    }
   ],
   "source": [
    "car_names = ['chevrolet chevelle malibu', 'buick skylark 320', 'plymouth satellite', 'amc rebel sst', 'ford torino']\n",
    "horsepower = [130, 165, 150, 150, 140]\n",
    "car_hp_arr = np.array([car_names, horsepower])\n",
    "car_hp_arr"
   ]
  },
  {
   "cell_type": "code",
   "execution_count": 5,
   "id": "0f669c02",
   "metadata": {},
   "outputs": [
    {
     "data": {
      "text/plain": [
       "array(['chevrolet chevelle malibu', 'buick skylark 320',\n",
       "       'plymouth satellite', 'amc rebel sst', 'ford torino'], dtype='<U25')"
      ]
     },
     "execution_count": 5,
     "metadata": {},
     "output_type": "execute_result"
    }
   ],
   "source": [
    "car_names = ['chevrolet chevelle malibu', 'buick skylark 320', 'plymouth satellite', 'amc rebel sst', 'ford torino']\n",
    "horsepower = [130, 165, 150, 150, 140]\n",
    "car_hp_arr = np.array([car_names, horsepower])\n",
    "car_hp_arr[0]"
   ]
  },
  {
   "cell_type": "code",
   "execution_count": 6,
   "id": "cef4fad0",
   "metadata": {},
   "outputs": [
    {
     "data": {
      "text/plain": [
       "array(['130', '165', '150', '150', '140'], dtype='<U25')"
      ]
     },
     "execution_count": 6,
     "metadata": {},
     "output_type": "execute_result"
    }
   ],
   "source": [
    "car_names = ['chevrolet chevelle malibu', 'buick skylark 320', 'plymouth satellite', 'amc rebel sst', 'ford torino']\n",
    "horsepower = [130, 165, 150, 150, 140]\n",
    "car_hp_arr = np.array([car_names, horsepower])\n",
    "car_hp_arr[1]\n"
   ]
  },
  {
   "cell_type": "code",
   "execution_count": 7,
   "id": "4a217271",
   "metadata": {},
   "outputs": [
    {
     "data": {
      "text/plain": [
       "'buick skylark 320'"
      ]
     },
     "execution_count": 7,
     "metadata": {},
     "output_type": "execute_result"
    }
   ],
   "source": [
    "\n",
    "car_names = ['chevrolet chevelle malibu', 'buick skylark 320', 'plymouth satellite', 'amc rebel sst', 'ford torino']\n",
    "horsepower = [130, 165, 150, 150, 140]\n",
    "car_hp_arr = np.array([car_names, horsepower])\n",
    "car_hp_arr[0,1]\n"
   ]
  },
  {
   "cell_type": "code",
   "execution_count": 8,
   "id": "6d653ec7",
   "metadata": {},
   "outputs": [
    {
     "data": {
      "text/plain": [
       "'ford torino'"
      ]
     },
     "execution_count": 8,
     "metadata": {},
     "output_type": "execute_result"
    }
   ],
   "source": [
    "car_names = ['chevrolet chevelle malibu', 'buick skylark 320', 'plymouth satellite', 'amc rebel sst', 'ford torino']\n",
    "horsepower = [130, 165, 150, 150, 140]\n",
    "car_hp_arr = np.array([car_names, horsepower])\n",
    "car_hp_arr[0,-1]\n"
   ]
  },
  {
   "cell_type": "code",
   "execution_count": 9,
   "id": "eae716bb",
   "metadata": {},
   "outputs": [
    {
     "data": {
      "text/plain": [
       "array(['buick skylark 320', 'plymouth satellite', 'amc rebel sst'],\n",
       "      dtype='<U25')"
      ]
     },
     "execution_count": 9,
     "metadata": {},
     "output_type": "execute_result"
    }
   ],
   "source": [
    "\n",
    "cars = np.array(['chevrolet chevelle malibu', 'buick skylark 320', 'plymouth satellite', 'amc rebel sst', 'ford torino'])\n",
    "\n",
    "cars[1:4]\n"
   ]
  },
  {
   "cell_type": "code",
   "execution_count": 10,
   "id": "cb223af5",
   "metadata": {},
   "outputs": [
    {
     "data": {
      "text/plain": [
       "array([['chevrolet chevelle malibu', 'buick skylark 320',\n",
       "        'plymouth satellite', 'amc rebel sst', 'ford torino'],\n",
       "       ['130', '165', '150', '150', '140'],\n",
       "       ['18', '15', '18', '16', '17']], dtype='<U25')"
      ]
     },
     "execution_count": 10,
     "metadata": {},
     "output_type": "execute_result"
    }
   ],
   "source": [
    "\n",
    "car_names = ['chevrolet chevelle malibu', 'buick skylark 320', 'plymouth satellite', 'amc rebel sst', 'ford torino']\n",
    "horsepower = [130, 165, 150, 150, 140]\n",
    "acceleration = [18, 15, 18, 16, 17]\n",
    "car_hp_acc_arr = np.array([car_names, horsepower, acceleration])\n",
    "car_hp_acc_arr\n"
   ]
  },
  {
   "cell_type": "code",
   "execution_count": 11,
   "id": "dcbdaf8d",
   "metadata": {},
   "outputs": [
    {
     "data": {
      "text/plain": [
       "array([['chevrolet chevelle malibu', 'buick skylark 320',\n",
       "        'plymouth satellite', 'amc rebel sst', 'ford torino'],\n",
       "       ['130', '165', '150', '150', '140']], dtype='<U25')"
      ]
     },
     "execution_count": 11,
     "metadata": {},
     "output_type": "execute_result"
    }
   ],
   "source": [
    "\n",
    "car_names = ['chevrolet chevelle malibu', 'buick skylark 320', 'plymouth satellite', 'amc rebel sst', 'ford torino']\n",
    "horsepower = [130, 165, 150, 150, 140]\n",
    "acceleration = [18, 15, 18, 16, 17]\n",
    "car_hp_acc_arr = np.array([car_names, horsepower, acceleration])\n",
    "\n",
    "car_hp_acc_arr[0:2]\n"
   ]
  },
  {
   "cell_type": "code",
   "execution_count": 12,
   "id": "2ca7cf4c",
   "metadata": {},
   "outputs": [
    {
     "data": {
      "text/plain": [
       "array([['amc rebel sst', 'ford torino'],\n",
       "       ['150', '140']], dtype='<U25')"
      ]
     },
     "execution_count": 12,
     "metadata": {},
     "output_type": "execute_result"
    }
   ],
   "source": [
    "\n",
    "car_names = ['chevrolet chevelle malibu', 'buick skylark 320', 'plymouth satellite', 'amc rebel sst', 'ford torino']\n",
    "horsepower = [130, 165, 150, 150, 140]\n",
    "acceleration = [18, 15, 18, 16, 17]\n",
    "car_hp_acc_arr = np.array([car_names, horsepower, acceleration])\n",
    "\n",
    "car_hp_acc_arr[0:2, 3:5]\n"
   ]
  },
  {
   "cell_type": "code",
   "execution_count": 17,
   "id": "c5764df2",
   "metadata": {},
   "outputs": [
    {
     "name": "stdout",
     "output_type": "stream",
     "text": [
      "Mean horsepower =  147.0\n"
     ]
    }
   ],
   "source": [
    "horsepower_arr = np.array([130, 165, 150, 150, 140])\n",
    "print(\"Mean horsepower = \",np.mean(horsepower_arr))\n"
   ]
  },
  {
   "cell_type": "code",
   "execution_count": 18,
   "id": "f2ca85c7",
   "metadata": {},
   "outputs": [
    {
     "name": "stdout",
     "output_type": "stream",
     "text": [
      "Median horsepower =  150.0\n"
     ]
    }
   ],
   "source": [
    "horsepower_arr = np.array( [130, 165, 150, 150, 140])\n",
    "print(\"Median horsepower = \",np.median(horsepower_arr))\n"
   ]
  },
  {
   "cell_type": "code",
   "execution_count": 20,
   "id": "1452179e",
   "metadata": {},
   "outputs": [
    {
     "name": "stdout",
     "output_type": "stream",
     "text": [
      "Minimum horsepower:  130\n",
      "Maximum horsepower:  165\n"
     ]
    }
   ],
   "source": [
    "horsepower_arr = np.array( [130, 165, 150, 150, 140])\n",
    "print(\"Minimum horsepower: \", np.min(horsepower_arr))\n",
    "print(\"Maximum horsepower: \", np.max(horsepower_arr))\n"
   ]
  },
  {
   "cell_type": "code",
   "execution_count": 4,
   "id": "fcd274d6",
   "metadata": {},
   "outputs": [
    {
     "ename": "SyntaxError",
     "evalue": "invalid syntax (653873933.py, line 4)",
     "output_type": "error",
     "traceback": [
      "\u001b[1;36m  Cell \u001b[1;32mIn[4], line 4\u001b[1;36m\u001b[0m\n\u001b[1;33m    print(x)np.arry\u001b[0m\n\u001b[1;37m            ^\u001b[0m\n\u001b[1;31mSyntaxError\u001b[0m\u001b[1;31m:\u001b[0m invalid syntax\n"
     ]
    }
   ],
   "source": [
    "import numpy as np\n",
    "horsepower = np.array([130,120,90,150,160,180])\n",
    "x = np.where(hosepower>=100)\n",
    "print(x)np\n",
    "print(horsepower[x])"
   ]
  },
  {
   "cell_type": "raw",
   "id": "14442708",
   "metadata": {},
   "source": []
  },
  {
   "cell_type": "code",
   "execution_count": 6,
   "id": "8df1afd3",
   "metadata": {},
   "outputs": [
    {
     "data": {
      "text/plain": [
       "array([[23, 25],\n",
       "       [45, 47],\n",
       "       [65, 69],\n",
       "       [78, 88]])"
      ]
     },
     "execution_count": 6,
     "metadata": {},
     "output_type": "execute_result"
    }
   ],
   "source": [
    "import numpy as np\n",
    "student_marks = np.array([[23,25],[45,47],[65,69],[78,88]])\n",
    "student_marks"
   ]
  },
  {
   "cell_type": "markdown",
   "id": "4eab52f7",
   "metadata": {},
   "source": [
    "student_marks = np.array([[23,25],[45,47],[65,69],[78,88]])\n",
    "add_marks = np.array([5,10])\n",
    "student_marks1=np.add(add_marks,student_marks)\n",
    "student_marks1                    "
   ]
  },
  {
   "cell_type": "code",
   "execution_count": 11,
   "id": "242bbba2",
   "metadata": {},
   "outputs": [
    {
     "name": "stdout",
     "output_type": "stream",
     "text": [
      "[[   1 6012]\n",
      " [   2 7079]\n",
      " [   3 6886]\n",
      " [   4 7230]\n",
      " [   5 4598]\n",
      " [   6 5564]\n",
      " [   7 6971]\n",
      " [   8 7763]\n",
      " [   9 8032]\n",
      " [  10 9569]]\n",
      "steps after 7am [[    1  8012]\n",
      " [    2  9079]\n",
      " [    3  8886]\n",
      " [    4  9230]\n",
      " [    5  6598]\n",
      " [    6  7564]\n",
      " [    7  8971]\n",
      " [    8  9763]\n",
      " [    9 10032]\n",
      " [   10 11569]]\n",
      "[[    2  9079]\n",
      " [    4  9230]\n",
      " [    8  9763]\n",
      " [    9 10032]\n",
      " [   10 11569]]\n"
     ]
    },
    {
     "data": {
      "text/plain": [
       "array([[    5,  6598],\n",
       "       [    6,  7564],\n",
       "       [    1,  8012],\n",
       "       [    3,  8886],\n",
       "       [    7,  8971],\n",
       "       [    2,  9079],\n",
       "       [    4,  9230],\n",
       "       [    8,  9763],\n",
       "       [    9, 10032],\n",
       "       [   10, 11569]])"
      ]
     },
     "execution_count": 11,
     "metadata": {},
     "output_type": "execute_result"
    }
   ],
   "source": [
    "import numpy as np\n",
    "steps= np.array([[1,6012],[2,7079],[3,6886],[4,7230],[5,4598],[6,5564],[7,6971],[8,7763],[9,8032],[10,9569]])\n",
    "steps_walked = np.array([6012,7079,6886,7230,4598,5564,6971,7763,8032,9569])\n",
    "print(steps)\n",
    "\n",
    "add_step=np.array([0,2000])\n",
    "step2=np.add(steps,add_step)\n",
    "print('steps after 7am',step2)\n",
    "\n",
    "x=np.where(step2[:,1]>9000)\n",
    "print(step2[x])\n",
    "\n",
    "sorted=step2[:,1].argsort()\n",
    "step2[sorted]\n",
    "\n"
   ]
  },
  {
   "cell_type": "code",
   "execution_count": 8,
   "id": "92393045",
   "metadata": {},
   "outputs": [
    {
     "name": "stdout",
     "output_type": "stream",
     "text": [
      "[[    2  9079]\n",
      " [    4  9230]\n",
      " [    8  9763]\n",
      " [    9 10032]\n",
      " [   10 11569]]\n"
     ]
    }
   ],
   "source": [
    "x=np.where(step2[:,1]>9000)\n",
    "print(step2[x])\n"
   ]
  },
  {
   "cell_type": "code",
   "execution_count": 1,
   "id": "dba81443",
   "metadata": {},
   "outputs": [
    {
     "name": "stdout",
     "output_type": "stream",
     "text": [
      "10\n",
      "[4 6]\n",
      "[3 7]\n"
     ]
    }
   ],
   "source": [
    "import numpy as np\n",
    "arr = np.array([[1, 2], [3, 4]])\n",
    "print(np.sum(arr)) \n",
    "print(np.sum(arr, axis=0)) \n",
    "print(np.sum(arr, axis=1)) "
   ]
  },
  {
   "cell_type": "code",
   "execution_count": 3,
   "id": "4088102e",
   "metadata": {},
   "outputs": [
    {
     "name": "stdout",
     "output_type": "stream",
     "text": [
      "2.5\n",
      "[2. 3.]\n",
      "[1.5 3.5]\n"
     ]
    }
   ],
   "source": [
    "import numpy as np\n",
    "arr = np.array([[1, 2], [3, 4]])\n",
    "print(np.mean(arr)) \n",
    "print(np.mean(arr, axis=0)) \n",
    "print(np.mean(arr, axis=1)) "
   ]
  },
  {
   "cell_type": "code",
   "execution_count": 4,
   "id": "e35d724f",
   "metadata": {},
   "outputs": [
    {
     "name": "stdout",
     "output_type": "stream",
     "text": [
      "4\n",
      "[3 4]\n",
      "1\n",
      "[1 2]\n",
      "[1 3]\n"
     ]
    }
   ],
   "source": [
    "import numpy as np\n",
    "arr = np.array([[1, 2], [3, 4]])\n",
    "print(np.max(arr))\n",
    "print(np.max(arr, axis=0)) \n",
    "print(np.min(arr))\n",
    "print(np.min(arr, axis=0)) \n",
    "print(np.min(arr, axis=1))\n"
   ]
  },
  {
   "cell_type": "code",
   "execution_count": 5,
   "id": "8549fa1b",
   "metadata": {},
   "outputs": [
    {
     "name": "stdout",
     "output_type": "stream",
     "text": [
      "2.5\n",
      "[2. 3.]\n",
      "[1.5 3.5]\n"
     ]
    }
   ],
   "source": [
    "import numpy as np\n",
    "arr = np.array([[1, 2], [3, 4]])\n",
    "print(np.median(arr)) \n",
    "print(np.median(arr, axis=0))\n",
    "print(np.median(arr, axis=1))"
   ]
  },
  {
   "cell_type": "code",
   "execution_count": 6,
   "id": "5aeccfa4",
   "metadata": {},
   "outputs": [
    {
     "name": "stdout",
     "output_type": "stream",
     "text": [
      "24\n",
      "[3 8]\n",
      "[ 2 12]\n"
     ]
    }
   ],
   "source": [
    "arr = np.array([[1, 2], [3, 4]])\n",
    "print(np.prod(arr))\n",
    "print(np.prod(arr, axis=0))\n",
    "print(np.prod(arr, axis=1)) "
   ]
  },
  {
   "cell_type": "code",
   "execution_count": 7,
   "id": "b6f697c4",
   "metadata": {},
   "outputs": [
    {
     "name": "stdout",
     "output_type": "stream",
     "text": [
      "1.118033988749895\n",
      "[1. 1.]\n",
      "[0.5 0.5]\n"
     ]
    }
   ],
   "source": [
    "import numpy as np\n",
    "arr = np.array([[1, 2], [3, 4]])\n",
    "print(np.std(arr))\n",
    "print(np.std(arr, axis=0))\n",
    "print(np.std(arr, axis=1))"
   ]
  },
  {
   "cell_type": "code",
   "execution_count": 8,
   "id": "963e96d9",
   "metadata": {},
   "outputs": [
    {
     "name": "stdout",
     "output_type": "stream",
     "text": [
      "1.25\n",
      "[1. 1.]\n",
      "[0.25 0.25]\n"
     ]
    }
   ],
   "source": [
    "import numpy as np\n",
    "arr = np.array([[1, 2], [3, 4]])\n",
    "print(np.var(arr))\n",
    "print(np.var(arr, axis=0)) \n",
    "print(np.var(arr, axis=1))"
   ]
  },
  {
   "cell_type": "code",
   "execution_count": 9,
   "id": "0fb0b762",
   "metadata": {},
   "outputs": [
    {
     "name": "stdout",
     "output_type": "stream",
     "text": [
      "[5 7 9]\n"
     ]
    }
   ],
   "source": [
    "import numpy as np\n",
    "arr1 = np.array([1, 2, 3])\n",
    "arr2 = np.array([4, 5, 6])\n",
    "result = arr1 + arr2\n",
    "print(result) "
   ]
  },
  {
   "cell_type": "code",
   "execution_count": 10,
   "id": "e7dd25f0",
   "metadata": {},
   "outputs": [
    {
     "name": "stdout",
     "output_type": "stream",
     "text": [
      "[3 3 3]\n"
     ]
    }
   ],
   "source": [
    "import numpy as np\n",
    "arr1 = np.array([4, 5, 6])\n",
    "arr2 = np.array([1, 2, 3])\n",
    "result = arr1 - arr2\n",
    "print(result) "
   ]
  },
  {
   "cell_type": "code",
   "execution_count": 11,
   "id": "fc13257d",
   "metadata": {},
   "outputs": [
    {
     "name": "stdout",
     "output_type": "stream",
     "text": [
      "[ 4 10 18]\n"
     ]
    }
   ],
   "source": [
    "import numpy as np\n",
    "arr1 = np.array([1, 2, 3])\n",
    "arr2 = np.array([4, 5, 6])\n",
    "result = arr1 * arr2\n",
    "print(result)"
   ]
  },
  {
   "cell_type": "code",
   "execution_count": 12,
   "id": "377e3307",
   "metadata": {},
   "outputs": [
    {
     "name": "stdout",
     "output_type": "stream",
     "text": [
      "[2. 2. 2.]\n"
     ]
    }
   ],
   "source": [
    "import numpy as np\n",
    "arr1 = np.array([4, 6, 8])\n",
    "arr2 = np.array([2, 3, 4])\n",
    "result = arr1 / arr2\n",
    "print(result) "
   ]
  },
  {
   "cell_type": "code",
   "execution_count": 13,
   "id": "12475153",
   "metadata": {},
   "outputs": [
    {
     "name": "stdout",
     "output_type": "stream",
     "text": [
      "[ 4  9 16]\n"
     ]
    }
   ],
   "source": [
    "import numpy as np\n",
    "arr = np.array([2, 3, 4])\n",
    "result = arr ** 2\n",
    "print(result)"
   ]
  },
  {
   "cell_type": "code",
   "execution_count": 14,
   "id": "76fe5a67",
   "metadata": {},
   "outputs": [
    {
     "name": "stdout",
     "output_type": "stream",
     "text": [
      "[2. 3. 4.]\n"
     ]
    }
   ],
   "source": [
    "import numpy as np\n",
    "arr = np.array([4, 9, 16])\n",
    "result = np.sqrt(arr)\n",
    "print(result) "
   ]
  },
  {
   "cell_type": "code",
   "execution_count": 15,
   "id": "6bab6522",
   "metadata": {},
   "outputs": [
    {
     "name": "stdout",
     "output_type": "stream",
     "text": [
      "[False  True  True]\n"
     ]
    }
   ],
   "source": [
    "import numpy as np\n",
    "arr1 = np.array([1, 2, 3])\n",
    "arr2 = np.array([2, 2, 3])\n",
    "result = arr1 == arr2\n",
    "print(result) "
   ]
  },
  {
   "cell_type": "code",
   "execution_count": 16,
   "id": "66fe3f5b",
   "metadata": {},
   "outputs": [
    {
     "name": "stdout",
     "output_type": "stream",
     "text": [
      "3.5\n",
      "[0.81649658 0.81649658]\n",
      "[5 7 9]\n"
     ]
    }
   ],
   "source": [
    "import numpy as np\n",
    "arr = np.array([[1, 2, 3], [4, 5, 6]])\n",
    "result_mean = np.mean(arr)\n",
    "result_std = np.std(arr, axis=1)\n",
    "result_sum = np.sum(arr, axis=0)\n",
    "print(result_mean) \n",
    "print(result_std)\n",
    "print(result_sum)"
   ]
  },
  {
   "cell_type": "code",
   "execution_count": 17,
   "id": "cc3b0015",
   "metadata": {},
   "outputs": [
    {
     "name": "stdout",
     "output_type": "stream",
     "text": [
      "[2. 5. 6.]\n"
     ]
    }
   ],
   "source": [
    "import numpy as np\n",
    "arr = np.array([2.3, 4.7, 6.1])\n",
    "result = np.round(arr)\n",
    "print(result)"
   ]
  },
  {
   "cell_type": "code",
   "execution_count": 18,
   "id": "d403c1fe",
   "metadata": {},
   "outputs": [
    {
     "name": "stdout",
     "output_type": "stream",
     "text": [
      "[ 4  9 16]\n"
     ]
    }
   ],
   "source": [
    "import numpy as np\n",
    "arr = np.array([2, 3, 4])\n",
    "result = np.power(arr, 2)\n",
    "print(result) "
   ]
  },
  {
   "cell_type": "code",
   "execution_count": 19,
   "id": "3b4e24a3",
   "metadata": {},
   "outputs": [
    {
     "name": "stdout",
     "output_type": "stream",
     "text": [
      "[1 0 0]\n"
     ]
    }
   ],
   "source": [
    "import numpy as np\n",
    "arr = np.array([1, 5, 10])\n",
    "result = np.where(arr < 5, arr, 0)\n",
    "print(result) "
   ]
  },
  {
   "cell_type": "code",
   "execution_count": 25,
   "id": "126b6515",
   "metadata": {},
   "outputs": [
    {
     "name": "stdout",
     "output_type": "stream",
     "text": [
      "[ 1  3  6 10 15]\n"
     ]
    }
   ],
   "source": [
    "import numpy as np\n",
    "arr = np.array([1, 2, 3, 4, 5])\n",
    "result = np.cumsum(arr)\n",
    "print(result) "
   ]
  },
  {
   "cell_type": "code",
   "execution_count": 22,
   "id": "14a1d870",
   "metadata": {},
   "outputs": [
    {
     "name": "stdout",
     "output_type": "stream",
     "text": [
      "[1 2 3 4 5]\n"
     ]
    }
   ],
   "source": [
    "import numpy as np\n",
    "arr = np.array([3, 1, 4, 2, 5])\n",
    "result = np.sort(arr)\n",
    "print(result) "
   ]
  },
  {
   "cell_type": "code",
   "execution_count": 23,
   "id": "0b56335a",
   "metadata": {},
   "outputs": [
    {
     "name": "stdout",
     "output_type": "stream",
     "text": [
      "[[ 4  2 -1  4]\n",
      " [ 3 -3  0 -1]]\n"
     ]
    }
   ],
   "source": [
    "S_X = np.array([[2, 5, 6, 5],[4, 8, 6, 5]])\n",
    "S_Y = np.array([[6, 7, 5, 9],[7, 5, 6, 4]])\n",
    "quarterly_difference = S_Y - S_X\n",
    "print(quarterly_difference)"
   ]
  },
  {
   "cell_type": "code",
   "execution_count": 24,
   "id": "c78d2561",
   "metadata": {},
   "outputs": [
    {
     "name": "stdout",
     "output_type": "stream",
     "text": [
      "[[False False False False]\n",
      " [False False False False]]\n"
     ]
    }
   ],
   "source": [
    "less_than_2 = S_X < 2\n",
    "print(less_than_2)"
   ]
  },
  {
   "cell_type": "code",
   "execution_count": 26,
   "id": "771b054f",
   "metadata": {},
   "outputs": [
    {
     "name": "stdout",
     "output_type": "stream",
     "text": [
      "[[ 2  7 13 18]\n",
      " [ 4 12 18 23]]\n"
     ]
    }
   ],
   "source": [
    "X_cumsum = np.cumsum(S_X, axis = 1)\n",
    "print(X_cumsum)"
   ]
  },
  {
   "cell_type": "code",
   "execution_count": 30,
   "id": "2cd24a67",
   "metadata": {},
   "outputs": [
    {
     "name": "stdout",
     "output_type": "stream",
     "text": [
      "[[ 6 13 18 27]\n",
      " [ 7 12 18 22]]\n",
      "[[False  True  True  True]\n",
      " [False  True  True  True]]\n"
     ]
    }
   ],
   "source": [
    "Y_cumsum = np.cumsum(S_Y, axis = 1)\n",
    "print(Y_cumsum)\n",
    "print( Y_cumsum >= 8)"
   ]
  },
  {
   "cell_type": "code",
   "execution_count": 29,
   "id": "66f0f773",
   "metadata": {},
   "outputs": [
    {
     "name": "stdout",
     "output_type": "stream",
     "text": [
      "[4.5  5.75]\n"
     ]
    }
   ],
   "source": [
    "yearly_mean_X = np.mean(S_X, axis=1)\n",
    "print(yearly_mean_X)"
   ]
  },
  {
   "cell_type": "code",
   "execution_count": 31,
   "id": "8b01aa92",
   "metadata": {},
   "outputs": [
    {
     "name": "stdout",
     "output_type": "stream",
     "text": [
      "[6.5 6.  5.5 6.5]\n"
     ]
    }
   ],
   "source": [
    "quarterly_mean_Y = np.mean(S_Y, axis=0)\n",
    "print(quarterly_mean_Y)"
   ]
  },
  {
   "cell_type": "code",
   "execution_count": 34,
   "id": "3e349987",
   "metadata": {},
   "outputs": [
    {
     "name": "stdout",
     "output_type": "stream",
     "text": [
      "[1, 4, 9, 16, 25]\n"
     ]
    }
   ],
   "source": [
    "numbers = [1, 2, 3, 4, 5]\n",
    "# Squaring each number using map()\n",
    "squared_numbers = map(lambda x: x ** 2, numbers)\n",
    "print(list(squared_numbers)) "
   ]
  },
  {
   "cell_type": "code",
   "execution_count": 4,
   "id": "608c30b8",
   "metadata": {},
   "outputs": [
    {
     "name": "stdout",
     "output_type": "stream",
     "text": [
      "[2, 4]\n"
     ]
    }
   ],
   "source": [
    "# filter()\n",
    "numbers = [1, 2, 3, 4, 5]\n",
    "even_numbers = filter(lambda x: x % 2 == 0, numbers)\n",
    "print(list(even_numbers)) "
   ]
  },
  {
   "cell_type": "code",
   "execution_count": 3,
   "id": "d538212f",
   "metadata": {},
   "outputs": [
    {
     "name": "stdout",
     "output_type": "stream",
     "text": [
      "15\n"
     ]
    }
   ],
   "source": [
    "#reduce()\n",
    "from functools import reduce\n",
    "numbers = [1, 2, 3, 4, 5]\n",
    "sum_of_numbers = reduce(lambda x, y: x + y, numbers)\n",
    "print(sum_of_numbers) "
   ]
  },
  {
   "cell_type": "code",
   "execution_count": 1,
   "id": "e2ac684c",
   "metadata": {},
   "outputs": [
    {
     "name": "stdout",
     "output_type": "stream",
     "text": [
      "25\n"
     ]
    }
   ],
   "source": [
    "square = lambda x: x ** 2\n",
    "print(square(5)) "
   ]
  },
  {
   "cell_type": "code",
   "execution_count": null,
   "id": "1625d764",
   "metadata": {},
   "outputs": [],
   "source": [
    "  "
   ]
  }
 ],
 "metadata": {
  "kernelspec": {
   "display_name": "Python 3 (ipykernel)",
   "language": "python",
   "name": "python3"
  },
  "language_info": {
   "codemirror_mode": {
    "name": "ipython",
    "version": 3
   },
   "file_extension": ".py",
   "mimetype": "text/x-python",
   "name": "python",
   "nbconvert_exporter": "python",
   "pygments_lexer": "ipython3",
   "version": "3.11.3"
  }
 },
 "nbformat": 4,
 "nbformat_minor": 5
}
